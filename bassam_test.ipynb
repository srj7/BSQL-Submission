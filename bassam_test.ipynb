{
  "nbformat": 4,
  "nbformat_minor": 0,
  "metadata": {
    "colab": {
      "name": "bassam_test.ipynb",
      "provenance": [],
      "collapsed_sections": [],
      "authorship_tag": "ABX9TyOLM52mN687DVaNPE4AIDmH",
      "include_colab_link": true
    },
    "kernelspec": {
      "name": "python3",
      "display_name": "Python 3"
    },
    "language_info": {
      "name": "python"
    }
  },
  "cells": [
    {
      "cell_type": "markdown",
      "metadata": {
        "id": "view-in-github",
        "colab_type": "text"
      },
      "source": [
        "<a href=\"https://colab.research.google.com/github/srj7/BSQL-Submission/blob/main/bassam_test.ipynb\" target=\"_parent\"><img src=\"https://colab.research.google.com/assets/colab-badge.svg\" alt=\"Open In Colab\"/></a>"
      ]
    },
    {
      "cell_type": "markdown",
      "metadata": {
        "id": "uejBomG8U-1c"
      },
      "source": [
        "**Problem 1: Consider two variables ‘var1’, ‘var2’ with integer values. Without the use of a third variable, swap the values of these two variables.**"
      ]
    },
    {
      "cell_type": "code",
      "metadata": {
        "colab": {
          "base_uri": "https://localhost:8080/"
        },
        "id": "60t0AYQgT28W",
        "outputId": "6c66ad79-77cd-4bf4-b1ee-02ee077565c9"
      },
      "source": [
        "#Reading integers\n",
        "var1 = int(input(\"Enter first integer :\"))  \n",
        "var2 = int(input(\"Enter second integer :\"))\n",
        "print(\"before swapping: %d   %d\" %(var1,var2))  \n",
        "#swapping\n",
        "var1 = var1 + var2    \n",
        "var2 = var1 - var2    \n",
        "var1 = var1 - var2       \n",
        "print(\"After swapping: %d   %d\"%(var1,var2))  "
      ],
      "execution_count": 36,
      "outputs": [
        {
          "output_type": "stream",
          "name": "stdout",
          "text": [
            "Enter first integer :155\n",
            "Enter second integer :250\n",
            "before swapping: 155   250\n",
            "After swapping: 250   155\n"
          ]
        }
      ]
    },
    {
      "cell_type": "markdown",
      "metadata": {
        "id": "gx84WbgtVN-D"
      },
      "source": [
        "**Problem 2: The user enters a string and a substring. You have to print the number of times that the substring occurs in the given string. String traversal will take place from left to right, not from right to left. String letters are case sensitive.**"
      ]
    },
    {
      "cell_type": "code",
      "metadata": {
        "colab": {
          "base_uri": "https://localhost:8080/"
        },
        "id": "h2oN12tsXcLd",
        "outputId": "5519e808-b90d-45ce-fc95-5b998f8cd7cd"
      },
      "source": [
        "string = str(input(\"Enter string :\"))\n",
        "sub_string = str(input(\"Enter sub string :\"))\n",
        "len1 = len(string)\n",
        "len2 = len(sub_string)\n",
        "count = 0\n",
        "for i in range(0, (len1 - len2 + 1)):\n",
        "    temp = string[i:i+len2]\n",
        "    if temp == sub_string:\n",
        "        count += 1\n",
        "print(count)"
      ],
      "execution_count": 35,
      "outputs": [
        {
          "output_type": "stream",
          "name": "stdout",
          "text": [
            "Enter string :Odoodeveloper\n",
            "Enter sub string :e\n",
            "3\n"
          ]
        }
      ]
    },
    {
      "cell_type": "markdown",
      "metadata": {
        "id": "uCHLRi33dxNk"
      },
      "source": [
        "**Problem 3: You are given a string and your task is to swap cases. In other words, convert all lowercase letters to uppercase letters and vice versa.**"
      ]
    },
    {
      "cell_type": "code",
      "metadata": {
        "colab": {
          "base_uri": "https://localhost:8080/"
        },
        "id": "cKqZplQseQkh",
        "outputId": "3de10d61-e1de-4eb9-b9f3-1abe789cac0b"
      },
      "source": [
        "string = str(input(\"Enter a string :\"))  \n",
        "# prints after swappong all cases\n",
        "print(\"After swapping cases:\",string.swapcase())   "
      ],
      "execution_count": 34,
      "outputs": [
        {
          "output_type": "stream",
          "name": "stdout",
          "text": [
            "Enter a string :OdoO\n",
            "After swapping cases: oDOo\n"
          ]
        }
      ]
    }
  ]
}